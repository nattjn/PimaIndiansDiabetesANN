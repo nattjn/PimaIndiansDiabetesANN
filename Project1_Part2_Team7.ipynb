{
  "cells": [
    {
      "cell_type": "markdown",
      "metadata": {
        "id": "view-in-github",
        "colab_type": "text"
      },
      "source": [
        "<a href=\"https://colab.research.google.com/github/nattjn/PimaIndiansDiabetesANN/blob/main/Project1_Part2_Team7.ipynb\" target=\"_parent\"><img src=\"https://colab.research.google.com/assets/colab-badge.svg\" alt=\"Open In Colab\"/></a>"
      ]
    },
    {
      "cell_type": "markdown",
      "metadata": {
        "id": "0yS9XmwcqKtq"
      },
      "source": [
        "# Pima Indians Diabetes Database\n",
        "\n",
        "## Sources:\n",
        "- Original owners: `National Institute of Diabetes and Digestive and Kidney Diseases`\n",
        "- Donor of database: `Research Center, RMI Group Leader Applied Physics Laboratory, The Johns Hopkins University`\n",
        "- Number of Instances: 768\n",
        "- Number of Attributes: 8 plus class \n",
        "- For Each Attribute: (all numeric-valued)\n",
        "   1. Number of times pregnant\n",
        "   2. Plasma glucose concentration a 2 hours in an oral glucose tolerance test\n",
        "   3. Diastolic blood pressure (mm Hg)\n",
        "   4. Triceps skin fold thickness (mm)\n",
        "   5. 2-Hour serum insulin (mu U/ml)\n",
        "   6. Body mass index (weight in kg/(height in m)^2)\n",
        "   7. Diabetes pedigree function\n",
        "   8. Age (years)\n",
        "   9. Class variable (0 or 1)\n",
        "- Missing Attribute Values: Yes\n",
        "- Class Distribution:\n",
        "  * **Positive Tested** Class value = 1\n",
        "  * **Negative Tested** Class value = 0\n",
        "- Class Value  Number of instances\n",
        "  * Class 0: 500\n",
        "  * Class 1: 268"
      ]
    },
    {
      "cell_type": "markdown",
      "metadata": {
        "id": "xCkt8mpXuV7s"
      },
      "source": [
        "## Import neccessary libraries\n"
      ]
    },
    {
      "cell_type": "code",
      "execution_count": null,
      "metadata": {
        "id": "WltXMgIcoSh_"
      },
      "outputs": [],
      "source": [
        "from numpy import loadtxt\n",
        "import numpy as np\n",
        "from tensorflow import keras\n",
        "from tensorflow.keras import regularizers\n",
        "from tensorflow.keras.models import Sequential\n",
        "from tensorflow.keras.layers import Dense, Activation, Dropout\n",
        "\n",
        "import matplotlib.pyplot as plt\n",
        "%matplotlib inline"
      ]
    },
    {
      "cell_type": "markdown",
      "metadata": {
        "id": "XuZkvagpsn0Z"
      },
      "source": [
        "## Prepare data for training"
      ]
    },
    {
      "cell_type": "code",
      "execution_count": null,
      "metadata": {
        "colab": {
          "base_uri": "https://localhost:8080/"
        },
        "id": "YVciuImOp4He",
        "outputId": "1d6e6157-ac90-473b-b501-32af1c26f037"
      },
      "outputs": [
        {
          "output_type": "stream",
          "name": "stdout",
          "text": [
            "--2022-09-04 21:01:56--  https://raw.githubusercontent.com/jbrownlee/Datasets/master/pima-indians-diabetes.data.csv\n",
            "Resolving raw.githubusercontent.com (raw.githubusercontent.com)... 185.199.108.133, 185.199.109.133, 185.199.110.133, ...\n",
            "Connecting to raw.githubusercontent.com (raw.githubusercontent.com)|185.199.108.133|:443... connected.\n",
            "HTTP request sent, awaiting response... 200 OK\n",
            "Length: 23278 (23K) [text/plain]\n",
            "Saving to: ‘pima-indians-diabetes.data.csv’\n",
            "\n",
            "\r          pima-indi   0%[                    ]       0  --.-KB/s               \rpima-indians-diabet 100%[===================>]  22.73K  --.-KB/s    in 0s      \n",
            "\n",
            "2022-09-04 21:01:56 (147 MB/s) - ‘pima-indians-diabetes.data.csv’ saved [23278/23278]\n",
            "\n",
            "--2022-09-04 21:01:56--  https://raw.githubusercontent.com/jbrownlee/Datasets/master/pima-indians-diabetes.names\n",
            "Resolving raw.githubusercontent.com (raw.githubusercontent.com)... 185.199.108.133, 185.199.110.133, 185.199.109.133, ...\n",
            "Connecting to raw.githubusercontent.com (raw.githubusercontent.com)|185.199.108.133|:443... connected.\n",
            "HTTP request sent, awaiting response... 200 OK\n",
            "Length: 3066 (3.0K) [text/plain]\n",
            "Saving to: ‘pima-indians-diabetes.names’\n",
            "\n",
            "pima-indians-diabet 100%[===================>]   2.99K  --.-KB/s    in 0s      \n",
            "\n",
            "2022-09-04 21:01:56 (75.8 MB/s) - ‘pima-indians-diabetes.names’ saved [3066/3066]\n",
            "\n"
          ]
        }
      ],
      "source": [
        "# download diabetes datasest and its description\n",
        "!wget \"https://raw.githubusercontent.com/jbrownlee/Datasets/master/pima-indians-diabetes.data.csv\"\n",
        "!wget \"https://raw.githubusercontent.com/jbrownlee/Datasets/master/pima-indians-diabetes.names\""
      ]
    },
    {
      "cell_type": "markdown",
      "metadata": {
        "id": "ivhbe9h3uLNX"
      },
      "source": [
        "## TODO 1: Split dataset into Input (X) and Output (y)\n",
        "\n",
        "**Score: 1%**\n",
        "\n",
        "**Input Variables (X):**\n",
        "1. Number of times pregnant\n",
        "2. Plasma glucose concentration at 2 hours in an oral glucose tolerance test\n",
        "3. Diastolic blood pressure (mm Hg)\n",
        "4. Triceps skin fold thickness (mm)\n",
        "5. 2-hour serum insulin (mu U/ml)\n",
        "6. Body mass index (weight in kg/(height in m)^2)\n",
        "7. Diabetes pedigree function\n",
        "8. Age (years)\n",
        "\n",
        "**Output Variables (y):**\n",
        "9. Class variable (0 or 1)\n",
        "\n",
        "**Guideline:**\n",
        "\n",
        "You can split the array into two arrays by selecting subsets of columns \n",
        "using the standard NumPy slice operator or “:”. \n",
        "\n",
        "Remember, in NumPy, the first column always started at 0\n",
        "\n",
        "**Instruction:**\n",
        "\n",
        "Split data into input (`X`) and output (`y`) variables, respectively. Repleace `None` to a number."
      ]
    },
    {
      "cell_type": "markdown",
      "metadata": {
        "id": "hNlo_3Chsva3"
      },
      "source": []
    },
    {
      "cell_type": "code",
      "execution_count": null,
      "metadata": {
        "id": "XGIAFis8tYTo"
      },
      "outputs": [],
      "source": [
        "# load the dataset\n",
        "dataset = loadtxt('/content/pima-indians-diabetes.data.csv', delimiter=',')\n",
        "X =  dataset[:, 0 :-1]    #all rows of the first to -1 columns\n",
        "y = dataset[:, -1]        #all rows of the last column"
      ]
    },
    {
      "cell_type": "markdown",
      "metadata": {
        "id": "iYh1SJ-ihi6Q"
      },
      "source": [
        "## TODO 2: Training and Testing\n",
        "\n",
        "**Score: 1%**\n",
        "\n",
        "**Instruction:**\n",
        "\n",
        "Fill out `None` to split dataset into 80% and 20% for training and testing datasets, respectively. \n",
        "\n"
      ]
    },
    {
      "cell_type": "code",
      "execution_count": null,
      "metadata": {
        "id": "HeEitxh9ctLJ"
      },
      "outputs": [],
      "source": [
        "from sklearn.model_selection import train_test_split\n",
        "X_train, X_test, y_train, y_test = train_test_split(X, y, test_size = 0.3, random_state = 0)"
      ]
    },
    {
      "cell_type": "markdown",
      "metadata": {
        "id": "xwmhbeYgtVjD"
      },
      "source": [
        "## TODO 3: Build a model\n",
        "\n",
        "**Score: 1%**\n",
        "\n",
        "**Instruction:** Create a neural network model by adding each layer:\n",
        "- The model expects rows of data with 8 variables\n",
        "- The first hidden layer has 12 nodes and uses the `relu` activation function.\n",
        "- The second hidden layer has 8 nodes and uses the `relu` activation function.\n",
        "- The output layer has one node and uses the `sigmoid` activation function."
      ]
    },
    {
      "cell_type": "code",
      "execution_count": null,
      "metadata": {
        "id": "Q11E6R4iyKPD"
      },
      "outputs": [],
      "source": [
        "model = Sequential()\n",
        "model.add(Dense(17, input_dim=8, activation='relu',\n",
        "  kernel_regularizer=regularizers.L1(0.02))\n",
        ")\n",
        "model.add(Dense(12, activation='relu')\n",
        ")\n",
        "model.add(Dense(13, activation='relu',\n",
        "  kernel_regularizer=regularizers.L1(0.03))\n",
        ")\n",
        "model.add(Dense(15, activation='relu')\n",
        ")\n",
        "model.add(Dropout(0.2))\n",
        "model.add(Dense(1, activation='sigmoid'))"
      ]
    },
    {
      "cell_type": "markdown",
      "metadata": {
        "id": "ptRxeIlNlohf"
      },
      "source": [
        "## TODO 4: Compile a model\n",
        "\n",
        "**Score: 1%**\n",
        "\n",
        "**Instruction:** Specify loss function and optimizer\n",
        "- Use cross entropy as the loss argument for a binary classification problems \n",
        "- Define an optimizer as the efficient stochastic gradient descent algorithm "
      ]
    },
    {
      "cell_type": "code",
      "execution_count": null,
      "metadata": {
        "id": "r8VfneILyLZx"
      },
      "outputs": [],
      "source": [
        "model.compile(\n",
        "    loss=\"binary_crossentropy\", \n",
        "    optimizer=\"adam\", \n",
        "    metrics=['accuracy']\n",
        ")"
      ]
    },
    {
      "cell_type": "markdown",
      "metadata": {
        "id": "7fCP-v9qoh3Z"
      },
      "source": [
        "## TODO 5: Train a model\n",
        "\n",
        "**Score: 1%**\n",
        "\n",
        "**Instruction:** This problem will run for a small number of epochs (150) and use a relatively small batch size of 10 "
      ]
    },
    {
      "cell_type": "code",
      "execution_count": null,
      "metadata": {
        "colab": {
          "base_uri": "https://localhost:8080/"
        },
        "id": "iMYuDoLU0TLQ",
        "outputId": "cd6c3746-e94d-4c63-99e6-d95af650819e"
      },
      "outputs": [
        {
          "output_type": "stream",
          "name": "stdout",
          "text": [
            "Epoch 1/150\n",
            "52/52 [==============================] - 1s 5ms/step - loss: 2.6206 - accuracy: 0.5508 - val_loss: 2.3101 - val_accuracy: 0.6840\n",
            "Epoch 2/150\n",
            "52/52 [==============================] - 0s 3ms/step - loss: 2.2287 - accuracy: 0.6523 - val_loss: 2.0877 - val_accuracy: 0.6840\n",
            "Epoch 3/150\n",
            "52/52 [==============================] - 0s 3ms/step - loss: 2.0059 - accuracy: 0.6497 - val_loss: 1.8857 - val_accuracy: 0.6753\n",
            "Epoch 4/150\n",
            "52/52 [==============================] - 0s 2ms/step - loss: 1.8186 - accuracy: 0.6576 - val_loss: 1.7086 - val_accuracy: 0.6753\n",
            "Epoch 5/150\n",
            "52/52 [==============================] - 0s 4ms/step - loss: 1.6384 - accuracy: 0.6510 - val_loss: 1.5478 - val_accuracy: 0.6710\n",
            "Epoch 6/150\n",
            "52/52 [==============================] - 0s 3ms/step - loss: 1.4939 - accuracy: 0.6523 - val_loss: 1.4084 - val_accuracy: 0.6753\n",
            "Epoch 7/150\n",
            "52/52 [==============================] - 0s 4ms/step - loss: 1.3661 - accuracy: 0.6549 - val_loss: 1.2954 - val_accuracy: 0.6753\n",
            "Epoch 8/150\n",
            "52/52 [==============================] - 0s 4ms/step - loss: 1.2633 - accuracy: 0.6484 - val_loss: 1.2047 - val_accuracy: 0.6710\n",
            "Epoch 9/150\n",
            "52/52 [==============================] - 0s 4ms/step - loss: 1.1893 - accuracy: 0.6719 - val_loss: 1.1402 - val_accuracy: 0.6883\n",
            "Epoch 10/150\n",
            "52/52 [==============================] - 0s 4ms/step - loss: 1.1462 - accuracy: 0.6497 - val_loss: 1.1066 - val_accuracy: 0.6753\n",
            "Epoch 11/150\n",
            "52/52 [==============================] - 0s 3ms/step - loss: 1.0936 - accuracy: 0.6693 - val_loss: 1.0640 - val_accuracy: 0.6840\n",
            "Epoch 12/150\n",
            "52/52 [==============================] - 0s 5ms/step - loss: 1.0708 - accuracy: 0.6393 - val_loss: 1.0345 - val_accuracy: 0.7186\n",
            "Epoch 13/150\n",
            "52/52 [==============================] - 0s 3ms/step - loss: 1.0469 - accuracy: 0.6458 - val_loss: 1.0045 - val_accuracy: 0.6797\n",
            "Epoch 14/150\n",
            "52/52 [==============================] - 0s 3ms/step - loss: 0.9939 - accuracy: 0.6927 - val_loss: 0.9777 - val_accuracy: 0.6840\n",
            "Epoch 15/150\n",
            "52/52 [==============================] - 0s 3ms/step - loss: 0.9902 - accuracy: 0.6484 - val_loss: 0.9516 - val_accuracy: 0.7056\n",
            "Epoch 16/150\n",
            "52/52 [==============================] - 0s 3ms/step - loss: 0.9687 - accuracy: 0.6719 - val_loss: 0.9312 - val_accuracy: 0.7056\n",
            "Epoch 17/150\n",
            "52/52 [==============================] - 0s 3ms/step - loss: 0.9473 - accuracy: 0.6719 - val_loss: 0.9214 - val_accuracy: 0.7143\n",
            "Epoch 18/150\n",
            "52/52 [==============================] - 0s 2ms/step - loss: 0.9412 - accuracy: 0.6693 - val_loss: 0.9062 - val_accuracy: 0.7056\n",
            "Epoch 19/150\n",
            "52/52 [==============================] - 0s 2ms/step - loss: 0.9125 - accuracy: 0.6667 - val_loss: 0.9121 - val_accuracy: 0.6667\n",
            "Epoch 20/150\n",
            "52/52 [==============================] - 0s 3ms/step - loss: 0.8945 - accuracy: 0.6927 - val_loss: 0.8926 - val_accuracy: 0.6970\n",
            "Epoch 21/150\n",
            "52/52 [==============================] - 0s 3ms/step - loss: 0.8980 - accuracy: 0.6732 - val_loss: 0.8662 - val_accuracy: 0.7143\n",
            "Epoch 22/150\n",
            "52/52 [==============================] - 0s 3ms/step - loss: 0.8821 - accuracy: 0.6615 - val_loss: 0.8529 - val_accuracy: 0.7316\n",
            "Epoch 23/150\n",
            "52/52 [==============================] - 0s 3ms/step - loss: 0.8591 - accuracy: 0.6745 - val_loss: 0.8446 - val_accuracy: 0.7229\n",
            "Epoch 24/150\n",
            "52/52 [==============================] - 0s 3ms/step - loss: 0.8613 - accuracy: 0.6654 - val_loss: 0.8403 - val_accuracy: 0.7013\n",
            "Epoch 25/150\n",
            "52/52 [==============================] - 0s 4ms/step - loss: 0.8488 - accuracy: 0.6784 - val_loss: 0.8353 - val_accuracy: 0.7186\n",
            "Epoch 26/150\n",
            "52/52 [==============================] - 0s 4ms/step - loss: 0.8267 - accuracy: 0.6927 - val_loss: 0.8071 - val_accuracy: 0.7273\n",
            "Epoch 27/150\n",
            "52/52 [==============================] - 0s 3ms/step - loss: 0.8172 - accuracy: 0.6953 - val_loss: 0.8026 - val_accuracy: 0.7186\n",
            "Epoch 28/150\n",
            "52/52 [==============================] - 0s 3ms/step - loss: 0.8120 - accuracy: 0.6979 - val_loss: 0.7910 - val_accuracy: 0.7316\n",
            "Epoch 29/150\n",
            "52/52 [==============================] - 0s 4ms/step - loss: 0.8042 - accuracy: 0.6914 - val_loss: 0.7800 - val_accuracy: 0.7403\n",
            "Epoch 30/150\n",
            "52/52 [==============================] - 0s 3ms/step - loss: 0.7909 - accuracy: 0.7031 - val_loss: 0.7693 - val_accuracy: 0.7446\n",
            "Epoch 31/150\n",
            "52/52 [==============================] - 0s 3ms/step - loss: 0.7819 - accuracy: 0.6914 - val_loss: 0.7584 - val_accuracy: 0.7446\n",
            "Epoch 32/150\n",
            "52/52 [==============================] - 0s 3ms/step - loss: 0.7770 - accuracy: 0.6940 - val_loss: 0.7483 - val_accuracy: 0.7446\n",
            "Epoch 33/150\n",
            "52/52 [==============================] - 0s 3ms/step - loss: 0.7653 - accuracy: 0.6914 - val_loss: 0.7405 - val_accuracy: 0.7489\n",
            "Epoch 34/150\n",
            "52/52 [==============================] - 0s 3ms/step - loss: 0.7588 - accuracy: 0.6901 - val_loss: 0.7384 - val_accuracy: 0.7532\n",
            "Epoch 35/150\n",
            "52/52 [==============================] - 0s 4ms/step - loss: 0.7463 - accuracy: 0.7018 - val_loss: 0.7359 - val_accuracy: 0.7359\n",
            "Epoch 36/150\n",
            "52/52 [==============================] - 0s 4ms/step - loss: 0.7304 - accuracy: 0.7122 - val_loss: 0.7133 - val_accuracy: 0.7619\n",
            "Epoch 37/150\n",
            "52/52 [==============================] - 0s 4ms/step - loss: 0.7280 - accuracy: 0.7070 - val_loss: 0.7053 - val_accuracy: 0.7532\n",
            "Epoch 38/150\n",
            "52/52 [==============================] - 0s 4ms/step - loss: 0.7163 - accuracy: 0.7109 - val_loss: 0.7012 - val_accuracy: 0.7359\n",
            "Epoch 39/150\n",
            "52/52 [==============================] - 0s 4ms/step - loss: 0.7142 - accuracy: 0.7148 - val_loss: 0.6870 - val_accuracy: 0.7489\n",
            "Epoch 40/150\n",
            "52/52 [==============================] - 0s 4ms/step - loss: 0.7106 - accuracy: 0.7083 - val_loss: 0.6909 - val_accuracy: 0.7532\n",
            "Epoch 41/150\n",
            "52/52 [==============================] - 0s 3ms/step - loss: 0.6935 - accuracy: 0.7122 - val_loss: 0.6738 - val_accuracy: 0.7359\n",
            "Epoch 42/150\n",
            "52/52 [==============================] - 0s 3ms/step - loss: 0.6845 - accuracy: 0.7227 - val_loss: 0.6754 - val_accuracy: 0.7186\n",
            "Epoch 43/150\n",
            "52/52 [==============================] - 0s 4ms/step - loss: 0.7019 - accuracy: 0.7253 - val_loss: 0.6704 - val_accuracy: 0.7446\n",
            "Epoch 44/150\n",
            "52/52 [==============================] - 0s 4ms/step - loss: 0.6727 - accuracy: 0.7279 - val_loss: 0.6597 - val_accuracy: 0.7489\n",
            "Epoch 45/150\n",
            "52/52 [==============================] - 0s 4ms/step - loss: 0.6727 - accuracy: 0.7161 - val_loss: 0.6478 - val_accuracy: 0.7446\n",
            "Epoch 46/150\n",
            "52/52 [==============================] - 0s 3ms/step - loss: 0.6553 - accuracy: 0.7318 - val_loss: 0.6408 - val_accuracy: 0.7532\n",
            "Epoch 47/150\n",
            "52/52 [==============================] - 0s 4ms/step - loss: 0.6541 - accuracy: 0.7279 - val_loss: 0.6332 - val_accuracy: 0.7532\n",
            "Epoch 48/150\n",
            "52/52 [==============================] - 0s 3ms/step - loss: 0.6560 - accuracy: 0.7266 - val_loss: 0.6277 - val_accuracy: 0.7576\n",
            "Epoch 49/150\n",
            "52/52 [==============================] - 0s 3ms/step - loss: 0.6407 - accuracy: 0.7305 - val_loss: 0.6228 - val_accuracy: 0.7576\n",
            "Epoch 50/150\n",
            "52/52 [==============================] - 0s 4ms/step - loss: 0.6382 - accuracy: 0.7344 - val_loss: 0.6214 - val_accuracy: 0.7446\n",
            "Epoch 51/150\n",
            "52/52 [==============================] - 0s 3ms/step - loss: 0.6448 - accuracy: 0.7266 - val_loss: 0.6180 - val_accuracy: 0.7359\n",
            "Epoch 52/150\n",
            "52/52 [==============================] - 0s 3ms/step - loss: 0.6230 - accuracy: 0.7370 - val_loss: 0.6115 - val_accuracy: 0.7576\n",
            "Epoch 53/150\n",
            "52/52 [==============================] - 0s 5ms/step - loss: 0.6338 - accuracy: 0.7279 - val_loss: 0.6229 - val_accuracy: 0.7403\n",
            "Epoch 54/150\n",
            "52/52 [==============================] - 0s 3ms/step - loss: 0.6285 - accuracy: 0.7266 - val_loss: 0.6074 - val_accuracy: 0.7403\n",
            "Epoch 55/150\n",
            "52/52 [==============================] - 0s 4ms/step - loss: 0.6276 - accuracy: 0.7305 - val_loss: 0.6109 - val_accuracy: 0.7489\n",
            "Epoch 56/150\n",
            "52/52 [==============================] - 0s 3ms/step - loss: 0.6314 - accuracy: 0.7122 - val_loss: 0.6002 - val_accuracy: 0.7619\n",
            "Epoch 57/150\n",
            "52/52 [==============================] - 0s 4ms/step - loss: 0.6179 - accuracy: 0.7461 - val_loss: 0.5944 - val_accuracy: 0.7576\n",
            "Epoch 58/150\n",
            "52/52 [==============================] - 0s 2ms/step - loss: 0.6200 - accuracy: 0.7135 - val_loss: 0.5923 - val_accuracy: 0.7576\n",
            "Epoch 59/150\n",
            "52/52 [==============================] - 0s 2ms/step - loss: 0.5946 - accuracy: 0.7539 - val_loss: 0.5865 - val_accuracy: 0.7619\n",
            "Epoch 60/150\n",
            "52/52 [==============================] - 0s 2ms/step - loss: 0.6117 - accuracy: 0.7253 - val_loss: 0.5887 - val_accuracy: 0.7576\n",
            "Epoch 61/150\n",
            "52/52 [==============================] - 0s 2ms/step - loss: 0.6037 - accuracy: 0.7448 - val_loss: 0.5825 - val_accuracy: 0.7403\n",
            "Epoch 62/150\n",
            "52/52 [==============================] - 0s 2ms/step - loss: 0.5987 - accuracy: 0.7240 - val_loss: 0.5805 - val_accuracy: 0.7576\n",
            "Epoch 63/150\n",
            "52/52 [==============================] - 0s 2ms/step - loss: 0.5949 - accuracy: 0.7396 - val_loss: 0.5805 - val_accuracy: 0.7576\n",
            "Epoch 64/150\n",
            "52/52 [==============================] - 0s 2ms/step - loss: 0.6005 - accuracy: 0.7331 - val_loss: 0.5834 - val_accuracy: 0.7316\n",
            "Epoch 65/150\n",
            "52/52 [==============================] - 0s 2ms/step - loss: 0.5947 - accuracy: 0.7292 - val_loss: 0.5783 - val_accuracy: 0.7576\n",
            "Epoch 66/150\n",
            "52/52 [==============================] - 0s 2ms/step - loss: 0.5840 - accuracy: 0.7448 - val_loss: 0.5775 - val_accuracy: 0.7532\n",
            "Epoch 67/150\n",
            "52/52 [==============================] - 0s 2ms/step - loss: 0.6016 - accuracy: 0.7227 - val_loss: 0.5711 - val_accuracy: 0.7489\n",
            "Epoch 68/150\n",
            "52/52 [==============================] - 0s 2ms/step - loss: 0.5952 - accuracy: 0.7461 - val_loss: 0.5719 - val_accuracy: 0.7532\n",
            "Epoch 69/150\n",
            "52/52 [==============================] - 0s 2ms/step - loss: 0.5859 - accuracy: 0.7383 - val_loss: 0.5750 - val_accuracy: 0.7403\n",
            "Epoch 70/150\n",
            "52/52 [==============================] - 0s 2ms/step - loss: 0.5859 - accuracy: 0.7526 - val_loss: 0.5743 - val_accuracy: 0.7359\n",
            "Epoch 71/150\n",
            "52/52 [==============================] - 0s 2ms/step - loss: 0.5825 - accuracy: 0.7513 - val_loss: 0.5682 - val_accuracy: 0.7446\n",
            "Epoch 72/150\n",
            "52/52 [==============================] - 0s 2ms/step - loss: 0.5913 - accuracy: 0.7253 - val_loss: 0.5700 - val_accuracy: 0.7403\n",
            "Epoch 73/150\n",
            "52/52 [==============================] - 0s 2ms/step - loss: 0.5910 - accuracy: 0.7279 - val_loss: 0.5643 - val_accuracy: 0.7662\n",
            "Epoch 74/150\n",
            "52/52 [==============================] - 0s 2ms/step - loss: 0.5814 - accuracy: 0.7344 - val_loss: 0.5721 - val_accuracy: 0.7316\n",
            "Epoch 75/150\n",
            "52/52 [==============================] - 0s 2ms/step - loss: 0.5861 - accuracy: 0.7370 - val_loss: 0.5626 - val_accuracy: 0.7576\n",
            "Epoch 76/150\n",
            "52/52 [==============================] - 0s 2ms/step - loss: 0.5864 - accuracy: 0.7370 - val_loss: 0.5578 - val_accuracy: 0.7532\n",
            "Epoch 77/150\n",
            "52/52 [==============================] - 0s 2ms/step - loss: 0.5845 - accuracy: 0.7305 - val_loss: 0.5607 - val_accuracy: 0.7489\n",
            "Epoch 78/150\n",
            "52/52 [==============================] - 0s 2ms/step - loss: 0.5795 - accuracy: 0.7344 - val_loss: 0.5567 - val_accuracy: 0.7489\n",
            "Epoch 79/150\n",
            "52/52 [==============================] - 0s 2ms/step - loss: 0.5873 - accuracy: 0.7331 - val_loss: 0.5559 - val_accuracy: 0.7576\n",
            "Epoch 80/150\n",
            "52/52 [==============================] - 0s 2ms/step - loss: 0.5819 - accuracy: 0.7409 - val_loss: 0.5562 - val_accuracy: 0.7619\n",
            "Epoch 81/150\n",
            "52/52 [==============================] - 0s 2ms/step - loss: 0.5726 - accuracy: 0.7448 - val_loss: 0.5606 - val_accuracy: 0.7446\n",
            "Epoch 82/150\n",
            "52/52 [==============================] - 0s 2ms/step - loss: 0.5845 - accuracy: 0.7344 - val_loss: 0.5529 - val_accuracy: 0.7576\n",
            "Epoch 83/150\n",
            "52/52 [==============================] - 0s 2ms/step - loss: 0.5700 - accuracy: 0.7513 - val_loss: 0.5720 - val_accuracy: 0.7403\n",
            "Epoch 84/150\n",
            "52/52 [==============================] - 0s 2ms/step - loss: 0.5799 - accuracy: 0.7253 - val_loss: 0.5847 - val_accuracy: 0.7316\n",
            "Epoch 85/150\n",
            "52/52 [==============================] - 0s 2ms/step - loss: 0.5847 - accuracy: 0.7448 - val_loss: 0.5482 - val_accuracy: 0.7619\n",
            "Epoch 86/150\n",
            "52/52 [==============================] - 0s 2ms/step - loss: 0.5665 - accuracy: 0.7500 - val_loss: 0.5528 - val_accuracy: 0.7403\n",
            "Epoch 87/150\n",
            "52/52 [==============================] - 0s 2ms/step - loss: 0.5767 - accuracy: 0.7500 - val_loss: 0.5476 - val_accuracy: 0.7446\n",
            "Epoch 88/150\n",
            "52/52 [==============================] - 0s 2ms/step - loss: 0.5698 - accuracy: 0.7513 - val_loss: 0.5882 - val_accuracy: 0.7229\n",
            "Epoch 89/150\n",
            "52/52 [==============================] - 0s 2ms/step - loss: 0.5727 - accuracy: 0.7422 - val_loss: 0.5584 - val_accuracy: 0.7273\n",
            "Epoch 90/150\n",
            "52/52 [==============================] - 0s 2ms/step - loss: 0.5712 - accuracy: 0.7435 - val_loss: 0.5437 - val_accuracy: 0.7576\n",
            "Epoch 91/150\n",
            "52/52 [==============================] - 0s 2ms/step - loss: 0.5631 - accuracy: 0.7487 - val_loss: 0.5440 - val_accuracy: 0.7619\n",
            "Epoch 92/150\n",
            "52/52 [==============================] - 0s 2ms/step - loss: 0.5764 - accuracy: 0.7357 - val_loss: 0.5807 - val_accuracy: 0.7273\n",
            "Epoch 93/150\n",
            "52/52 [==============================] - 0s 2ms/step - loss: 0.5627 - accuracy: 0.7552 - val_loss: 0.5406 - val_accuracy: 0.7576\n",
            "Epoch 94/150\n",
            "52/52 [==============================] - 0s 2ms/step - loss: 0.5619 - accuracy: 0.7448 - val_loss: 0.5497 - val_accuracy: 0.7359\n",
            "Epoch 95/150\n",
            "52/52 [==============================] - 0s 2ms/step - loss: 0.5684 - accuracy: 0.7539 - val_loss: 0.5441 - val_accuracy: 0.7403\n",
            "Epoch 96/150\n",
            "52/52 [==============================] - 0s 2ms/step - loss: 0.5731 - accuracy: 0.7422 - val_loss: 0.5404 - val_accuracy: 0.7446\n",
            "Epoch 97/150\n",
            "52/52 [==============================] - 0s 2ms/step - loss: 0.5590 - accuracy: 0.7500 - val_loss: 0.5540 - val_accuracy: 0.7359\n",
            "Epoch 98/150\n",
            "52/52 [==============================] - 0s 2ms/step - loss: 0.5578 - accuracy: 0.7474 - val_loss: 0.5397 - val_accuracy: 0.7489\n",
            "Epoch 99/150\n",
            "52/52 [==============================] - 0s 2ms/step - loss: 0.5477 - accuracy: 0.7487 - val_loss: 0.5379 - val_accuracy: 0.7662\n",
            "Epoch 100/150\n",
            "52/52 [==============================] - 0s 2ms/step - loss: 0.5572 - accuracy: 0.7565 - val_loss: 0.5396 - val_accuracy: 0.7403\n",
            "Epoch 101/150\n",
            "52/52 [==============================] - 0s 2ms/step - loss: 0.5588 - accuracy: 0.7526 - val_loss: 0.5385 - val_accuracy: 0.7706\n",
            "Epoch 102/150\n",
            "52/52 [==============================] - 0s 2ms/step - loss: 0.5605 - accuracy: 0.7617 - val_loss: 0.5393 - val_accuracy: 0.7576\n",
            "Epoch 103/150\n",
            "52/52 [==============================] - 0s 2ms/step - loss: 0.5548 - accuracy: 0.7565 - val_loss: 0.5357 - val_accuracy: 0.7446\n",
            "Epoch 104/150\n",
            "52/52 [==============================] - 0s 2ms/step - loss: 0.5416 - accuracy: 0.7448 - val_loss: 0.5355 - val_accuracy: 0.7706\n",
            "Epoch 105/150\n",
            "52/52 [==============================] - 0s 2ms/step - loss: 0.5415 - accuracy: 0.7669 - val_loss: 0.5329 - val_accuracy: 0.7619\n",
            "Epoch 106/150\n",
            "52/52 [==============================] - 0s 2ms/step - loss: 0.5569 - accuracy: 0.7422 - val_loss: 0.5315 - val_accuracy: 0.7619\n",
            "Epoch 107/150\n",
            "52/52 [==============================] - 0s 2ms/step - loss: 0.5543 - accuracy: 0.7448 - val_loss: 0.5314 - val_accuracy: 0.7662\n",
            "Epoch 108/150\n",
            "52/52 [==============================] - 0s 2ms/step - loss: 0.5572 - accuracy: 0.7487 - val_loss: 0.5495 - val_accuracy: 0.7403\n",
            "Epoch 109/150\n",
            "52/52 [==============================] - 0s 2ms/step - loss: 0.5497 - accuracy: 0.7500 - val_loss: 0.5307 - val_accuracy: 0.7576\n",
            "Epoch 110/150\n",
            "52/52 [==============================] - 0s 2ms/step - loss: 0.5517 - accuracy: 0.7526 - val_loss: 0.5357 - val_accuracy: 0.7359\n",
            "Epoch 111/150\n",
            "52/52 [==============================] - 0s 2ms/step - loss: 0.5561 - accuracy: 0.7526 - val_loss: 0.5384 - val_accuracy: 0.7446\n",
            "Epoch 112/150\n",
            "52/52 [==============================] - 0s 2ms/step - loss: 0.5542 - accuracy: 0.7578 - val_loss: 0.5359 - val_accuracy: 0.7359\n",
            "Epoch 113/150\n",
            "52/52 [==============================] - 0s 2ms/step - loss: 0.5328 - accuracy: 0.7591 - val_loss: 0.5279 - val_accuracy: 0.7619\n",
            "Epoch 114/150\n",
            "52/52 [==============================] - 0s 2ms/step - loss: 0.5389 - accuracy: 0.7500 - val_loss: 0.5293 - val_accuracy: 0.7532\n",
            "Epoch 115/150\n",
            "52/52 [==============================] - 0s 2ms/step - loss: 0.5768 - accuracy: 0.7331 - val_loss: 0.5492 - val_accuracy: 0.7619\n",
            "Epoch 116/150\n",
            "52/52 [==============================] - 0s 2ms/step - loss: 0.5509 - accuracy: 0.7565 - val_loss: 0.5427 - val_accuracy: 0.7532\n",
            "Epoch 117/150\n",
            "52/52 [==============================] - 0s 2ms/step - loss: 0.5447 - accuracy: 0.7487 - val_loss: 0.5271 - val_accuracy: 0.7576\n",
            "Epoch 118/150\n",
            "52/52 [==============================] - 0s 2ms/step - loss: 0.5628 - accuracy: 0.7422 - val_loss: 0.5309 - val_accuracy: 0.7619\n",
            "Epoch 119/150\n",
            "52/52 [==============================] - 0s 2ms/step - loss: 0.5412 - accuracy: 0.7591 - val_loss: 0.5253 - val_accuracy: 0.7446\n",
            "Epoch 120/150\n",
            "52/52 [==============================] - 0s 2ms/step - loss: 0.5419 - accuracy: 0.7552 - val_loss: 0.5269 - val_accuracy: 0.7489\n",
            "Epoch 121/150\n",
            "52/52 [==============================] - 0s 2ms/step - loss: 0.5516 - accuracy: 0.7474 - val_loss: 0.5308 - val_accuracy: 0.7446\n",
            "Epoch 122/150\n",
            "52/52 [==============================] - 0s 2ms/step - loss: 0.5484 - accuracy: 0.7422 - val_loss: 0.5233 - val_accuracy: 0.7619\n",
            "Epoch 123/150\n",
            "52/52 [==============================] - 0s 2ms/step - loss: 0.5459 - accuracy: 0.7617 - val_loss: 0.5247 - val_accuracy: 0.7662\n",
            "Epoch 124/150\n",
            "52/52 [==============================] - 0s 2ms/step - loss: 0.5403 - accuracy: 0.7630 - val_loss: 0.5327 - val_accuracy: 0.7446\n",
            "Epoch 125/150\n",
            "52/52 [==============================] - 0s 2ms/step - loss: 0.5403 - accuracy: 0.7552 - val_loss: 0.5223 - val_accuracy: 0.7446\n",
            "Epoch 126/150\n",
            "52/52 [==============================] - 0s 2ms/step - loss: 0.5382 - accuracy: 0.7604 - val_loss: 0.5246 - val_accuracy: 0.7532\n",
            "Epoch 127/150\n",
            "52/52 [==============================] - 0s 2ms/step - loss: 0.5362 - accuracy: 0.7565 - val_loss: 0.5222 - val_accuracy: 0.7489\n",
            "Epoch 128/150\n",
            "52/52 [==============================] - 0s 2ms/step - loss: 0.5410 - accuracy: 0.7448 - val_loss: 0.5300 - val_accuracy: 0.7532\n",
            "Epoch 129/150\n",
            "52/52 [==============================] - 0s 2ms/step - loss: 0.5470 - accuracy: 0.7552 - val_loss: 0.5250 - val_accuracy: 0.7532\n",
            "Epoch 130/150\n",
            "52/52 [==============================] - 0s 2ms/step - loss: 0.5663 - accuracy: 0.7422 - val_loss: 0.5219 - val_accuracy: 0.7619\n",
            "Epoch 131/150\n",
            "52/52 [==============================] - 0s 2ms/step - loss: 0.5629 - accuracy: 0.7318 - val_loss: 0.5212 - val_accuracy: 0.7619\n",
            "Epoch 132/150\n",
            "52/52 [==============================] - 0s 2ms/step - loss: 0.5499 - accuracy: 0.7617 - val_loss: 0.5258 - val_accuracy: 0.7489\n",
            "Epoch 133/150\n",
            "52/52 [==============================] - 0s 2ms/step - loss: 0.5408 - accuracy: 0.7643 - val_loss: 0.5214 - val_accuracy: 0.7749\n",
            "Epoch 134/150\n",
            "52/52 [==============================] - 0s 2ms/step - loss: 0.5395 - accuracy: 0.7513 - val_loss: 0.5235 - val_accuracy: 0.7489\n",
            "Epoch 135/150\n",
            "52/52 [==============================] - 0s 2ms/step - loss: 0.5402 - accuracy: 0.7565 - val_loss: 0.5171 - val_accuracy: 0.7403\n",
            "Epoch 136/150\n",
            "52/52 [==============================] - 0s 2ms/step - loss: 0.5387 - accuracy: 0.7604 - val_loss: 0.5377 - val_accuracy: 0.7489\n",
            "Epoch 137/150\n",
            "52/52 [==============================] - 0s 2ms/step - loss: 0.5406 - accuracy: 0.7552 - val_loss: 0.5229 - val_accuracy: 0.7706\n",
            "Epoch 138/150\n",
            "52/52 [==============================] - 0s 2ms/step - loss: 0.5485 - accuracy: 0.7591 - val_loss: 0.5339 - val_accuracy: 0.7662\n",
            "Epoch 139/150\n",
            "52/52 [==============================] - 0s 2ms/step - loss: 0.5426 - accuracy: 0.7526 - val_loss: 0.5199 - val_accuracy: 0.7576\n",
            "Epoch 140/150\n",
            "52/52 [==============================] - 0s 2ms/step - loss: 0.5426 - accuracy: 0.7578 - val_loss: 0.5204 - val_accuracy: 0.7532\n",
            "Epoch 141/150\n",
            "52/52 [==============================] - 0s 2ms/step - loss: 0.5411 - accuracy: 0.7591 - val_loss: 0.5169 - val_accuracy: 0.7489\n",
            "Epoch 142/150\n",
            "52/52 [==============================] - 0s 2ms/step - loss: 0.5282 - accuracy: 0.7617 - val_loss: 0.5157 - val_accuracy: 0.7706\n",
            "Epoch 143/150\n",
            "52/52 [==============================] - 0s 2ms/step - loss: 0.5331 - accuracy: 0.7630 - val_loss: 0.5216 - val_accuracy: 0.7446\n",
            "Epoch 144/150\n",
            "52/52 [==============================] - 0s 2ms/step - loss: 0.5389 - accuracy: 0.7552 - val_loss: 0.5175 - val_accuracy: 0.7706\n",
            "Epoch 145/150\n",
            "52/52 [==============================] - 0s 2ms/step - loss: 0.5418 - accuracy: 0.7565 - val_loss: 0.5458 - val_accuracy: 0.7749\n",
            "Epoch 146/150\n",
            "52/52 [==============================] - 0s 2ms/step - loss: 0.5462 - accuracy: 0.7500 - val_loss: 0.5236 - val_accuracy: 0.7576\n",
            "Epoch 147/150\n",
            "52/52 [==============================] - 0s 2ms/step - loss: 0.5391 - accuracy: 0.7578 - val_loss: 0.5213 - val_accuracy: 0.7489\n",
            "Epoch 148/150\n",
            "52/52 [==============================] - 0s 2ms/step - loss: 0.5387 - accuracy: 0.7370 - val_loss: 0.5177 - val_accuracy: 0.7706\n",
            "Epoch 149/150\n",
            "52/52 [==============================] - 0s 2ms/step - loss: 0.5312 - accuracy: 0.7721 - val_loss: 0.5151 - val_accuracy: 0.7662\n",
            "Epoch 150/150\n",
            "52/52 [==============================] - 0s 2ms/step - loss: 0.5481 - accuracy: 0.7474 - val_loss: 0.5194 - val_accuracy: 0.7619\n"
          ]
        }
      ],
      "source": [
        "# fit the keras model on the dataset\n",
        "hist = model.fit(\n",
        "    X, y, \n",
        "    epochs=150, \n",
        "    batch_size=15,\n",
        "    validation_data=(X_test, y_test), \n",
        "    verbose=1\n",
        ")"
      ]
    },
    {
      "cell_type": "markdown",
      "metadata": {
        "id": "2rZckN3cpSWK"
      },
      "source": [
        "## Evaluation\n",
        "\n",
        "At this stage, if your code works correctly, you should get accuracy of 76%. \n",
        "\n",
        "**Question:** Do you think this model is efficient? Why don't you just investigate deeper?"
      ]
    },
    {
      "cell_type": "code",
      "execution_count": null,
      "metadata": {
        "colab": {
          "base_uri": "https://localhost:8080/",
          "height": 591
        },
        "id": "DPfBZVnahUjf",
        "outputId": "871e2e40-d38a-4a7f-981a-69483a49d5a8"
      },
      "outputs": [
        {
          "output_type": "stream",
          "name": "stdout",
          "text": [
            "Accuracy:  0.761904776096344\n"
          ]
        },
        {
          "output_type": "display_data",
          "data": {
            "text/plain": [
              "<Figure size 432x288 with 1 Axes>"
            ],
            "image/png": "[encoded data removed]"
          },
          "metadata": {
            "needs_background": "light"
          }
        },
        {
          "output_type": "display_data",
          "data": {
            "text/plain": [
              "<Figure size 432x288 with 1 Axes>"
            ],
            "image/png": "[encoded data removed]"
          },
          "metadata": {
            "needs_background": "light"
          }
        }
      ],
      "source": [
        "_, score = model.evaluate(X_test, y_test, verbose=0)\n",
        "print(\"Accuracy: \", score)\n",
        "\n",
        "plt.plot(hist.history['loss'])\n",
        "plt.plot(hist.history['val_loss'])\n",
        "plt.title('model loss')\n",
        "plt.ylabel('loss')\n",
        "plt.xlabel('epoch')\n",
        "plt.legend(['train', 'validation'], loc='upper right')\n",
        "plt.show()\n",
        "\n",
        "# summarize history for accuracy\n",
        "plt.plot(hist.history['accuracy'])\n",
        "plt.plot(hist.history['val_accuracy'])\n",
        "plt.title('model accuracy')\n",
        "plt.ylabel('accuracy')\n",
        "plt.xlabel('epoch')\n",
        "plt.legend(['train', 'test'], loc='upper left')\n",
        "plt.show()"
      ]
    },
    {
      "cell_type": "markdown",
      "metadata": {
        "id": "Vu4Zk4WkpWQ1"
      },
      "source": [
        "## Prediction"
      ]
    },
    {
      "cell_type": "code",
      "execution_count": null,
      "metadata": {
        "colab": {
          "base_uri": "https://localhost:8080/"
        },
        "id": "j3WSkVlvpYWa",
        "outputId": "4dad350b-cd89-4b84-8eb8-384db7835b87"
      },
      "outputs": [
        {
          "output_type": "stream",
          "name": "stdout",
          "text": [
            "[6.0, 148.0, 72.0, 35.0, 0.0, 33.6, 0.627, 50.0] \t=> 1 (expected 1)\n",
            "[1.0, 85.0, 66.0, 29.0, 0.0, 26.6, 0.351, 31.0] \t=> 0 (expected 0)\n",
            "[8.0, 183.0, 64.0, 0.0, 0.0, 23.3, 0.672, 32.0] \t=> 1 (expected 1)\n",
            "[1.0, 89.0, 66.0, 23.0, 94.0, 28.1, 0.167, 21.0] \t=> 0 (expected 0)\n",
            "[0.0, 137.0, 40.0, 35.0, 168.0, 43.1, 2.288, 33.0] \t=> 1 (expected 1)\n",
            "[5.0, 116.0, 74.0, 0.0, 0.0, 25.6, 0.201, 30.0] \t=> 0 (expected 0)\n",
            "[3.0, 78.0, 50.0, 32.0, 88.0, 31.0, 0.248, 26.0] \t=> 0 (expected 1)\n",
            "[10.0, 115.0, 0.0, 0.0, 0.0, 35.3, 0.134, 29.0] \t=> 1 (expected 0)\n",
            "[2.0, 197.0, 70.0, 45.0, 543.0, 30.5, 0.158, 53.0] \t=> 1 (expected 1)\n",
            "[8.0, 125.0, 96.0, 0.0, 0.0, 0.0, 0.232, 54.0] \t=> 0 (expected 1)\n"
          ]
        }
      ],
      "source": [
        "# make class predictions with the model\n",
        "predictions = (model.predict(X) > 0.5).astype(int)\n",
        "# summarize the first 5 cases\n",
        "for i in range(10):\n",
        "\t  print('%s \\t=> %d (expected %d)' % (X[i].tolist(), predictions[i], y[i]))"
      ]
    }
  ],
  "metadata": {
    "colab": {
      "collapsed_sections": [
        "Vu4Zk4WkpWQ1"
      ],
      "provenance": [],
      "include_colab_link": true
    },
    "kernelspec": {
      "display_name": "Python 3",
      "name": "python3"
    },
    "language_info": {
      "name": "python"
    }
  },
  "nbformat": 4,
  "nbformat_minor": 0
}